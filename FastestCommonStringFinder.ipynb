{
 "cells": [
  {
   "cell_type": "markdown",
   "metadata": {},
   "source": [
    "This was a challenge put up by my professor during a Full Time Data Science Course at BrainStation. The challenge was to find the longest common string among ten different, thousand character long strings. This code ended up being the fastest in the class so it won me a $20 gift card.\n",
    "\n",
    "The main methods for speeding up the search were:\n",
    "1. Using a binary search algorithm to find new max / min sizes for the strings\n",
    "2. Keeping the index of the location of the substrings found and passing it back into the next loop to save steps\n",
    "3. Skipping possible string lengths in order to find a substring that was within a certain range of the longest substring then searching around that point."
   ]
  },
  {
   "cell_type": "code",
   "execution_count": null,
   "metadata": {},
   "outputs": [],
   "source": [
    "import numpy as np"
   ]
  },
  {
   "cell_type": "code",
   "execution_count": 13,
   "metadata": {},
   "outputs": [],
   "source": [
    "def in_all(dnas,seq):\n",
    "    for dna in dnas:\n",
    "        if seq not in dna:\n",
    "            return False\n",
    "    return True "
   ]
  },
  {
   "cell_type": "code",
   "execution_count": 14,
   "metadata": {},
   "outputs": [],
   "source": [
    "## Finding the Longest Common Sequence\n",
    "## Assumes more than 3 strings\n",
    "#Import Data and Clean\n",
    "\n",
    "with open('strings.txt') as f:\n",
    "    data = f.readlines()\n",
    "    dnas = []\n",
    "\n",
    "for i in data:\n",
    "    if i.startswith('>'):\n",
    "        dnas.append('')\n",
    "    else:\n",
    "        dnas[-1] = dnas[-1] + i.strip()\n",
    "        \n",
    "strangs = dnas[0:len(dnas)]\n",
    "strangs_end = dnas[1:len(dnas)]\n",
    "\n",
    "#set parameters\n",
    "start_max = len(strangs[1]) #<----------sets max bound for number of characters\n",
    "start_min = 0 #<------------set min bound for number of characters\n",
    "steps = 3 #<-------- number of steps for each pass through the strings\n",
    "steps2 = 20 #Step Size of slider\n",
    "passes = 100 #<---------- number of passes \n",
    "new_min=0\n",
    "new_max=0\n",
    "old_i = 0\n",
    "\n",
    "for rounds in range(passes): #Make several passes through the data\n",
    "    #reset switches\n",
    "    switch = False\n",
    "    switch2= False\n",
    "    if rounds == 0: #use input parameters for first pass through\n",
    "        new_max = start_max\n",
    "        new_min = start_min\n",
    "    else:\n",
    "        new_max = old_slider[slide_num-2]\n",
    "\n",
    "    slider = np.round(np.linspace(new_max,new_min,steps)).astype(int) #check for substrings between the new min/max  \n",
    "    \n",
    "    old_slider = [] #Keep index of slider size\n",
    "    slide_num=0 #Keep index of slider number \n",
    "    if old_i < steps2:\n",
    "        old_i = steps2\n",
    "    \n",
    "    #First for loop scans strings but skips most strings for speed\n",
    "    for length_slider in slider:\n",
    "        old_slider.append(length_slider)\n",
    "        slide_num+=1\n",
    "        \n",
    "        for i in range(old_i-steps2,len(strangs[1])-length_slider,steps2): #<------checks if substring appears another string\n",
    "            test_string = strangs[0][i:i+length_slider]\n",
    "            if in_all(strangs_end,test_string):\n",
    "                new_min = len(test_string) #<------set bounds for next pass through\n",
    "                switch = True #<----- activate switch to break loop\n",
    "                old_i=i\n",
    "                if (old_slider[slide_num-2]-new_min ==1):\n",
    "                    True_min = new_min\n",
    "                    old_i = i #<----------Keep index of substring to check superstrings\n",
    "                    switch2 = True\n",
    "       \n",
    "            if switch == True: #<----- break loop\n",
    "                break\n",
    "        if switch == True:  #<-----break loop\n",
    "            break\n",
    "    if switch2 == True:\n",
    "        break\n",
    "\n",
    "switch = False\n",
    "\n",
    "#The first for loop found a string which is a substring of the longest\n",
    "#string within 'steps2' characters\n",
    "slider = np.round(np.linspace(True_min+steps2,True_min,steps2+1)).astype(int) #check for substrings between the new min/max   \n",
    "\n",
    "old_slider = [] #Keep index of slider size\n",
    "slide_num = 0 #Keep index of slider number \n",
    "\n",
    "#second for loop will not skip string values and will find the\n",
    "#longest string\n",
    "\n",
    "if old_i < steps2:\n",
    "    old_i = steps2\n",
    "\n",
    "\n",
    "for length_slider in slider:\n",
    "    old_slider.append(length_slider)\n",
    "    slide_num+=1\n",
    "    for i in range(old_i-steps2,len(strangs[1])-length_slider,1): #<------checks if substring appears in one other string\n",
    "        test_string = strangs[0][i:i+length_slider]\n",
    "        if in_all(strangs_end,test_string):\n",
    "            new_min = len(test_string)\n",
    "            longest_string = test_string\n",
    "            switch = True\n",
    "            break\n",
    "        if switch == True: #<----- break loop if switch flipped\n",
    "            break\n",
    "    if switch == True:  #<-----break loop\n",
    "        break"
   ]
  },
  {
   "cell_type": "code",
   "execution_count": 15,
   "metadata": {},
   "outputs": [
    {
     "name": "stdout",
     "output_type": "stream",
     "text": [
      "Length: 158\n",
      "String: GTACAAGTGATCACTCGCTGGCTTCTTTCGCTAGCAGTCGAGATACCCAAGGCCTGTTTCCTCCTGGTCCCGGGCTTTCACGTCAGTGCAGCATACGGGATTATAGAAGTAATCCTGAAGGCTAGTGGCTTCTTCGTGCTGCGAAGGCTTCGGTATAC\n"
     ]
    }
   ],
   "source": [
    "print('Length:', new_min)\n",
    "print('String:', longest_string)"
   ]
  },
  {
   "cell_type": "code",
   "execution_count": 16,
   "metadata": {},
   "outputs": [],
   "source": [
    "longest_string = 0\n",
    "new_min = 0"
   ]
  },
  {
   "cell_type": "code",
   "execution_count": null,
   "metadata": {},
   "outputs": [],
   "source": []
  }
 ],
 "metadata": {
  "kernelspec": {
   "display_name": "Python 3",
   "language": "python",
   "name": "python3"
  },
  "language_info": {
   "codemirror_mode": {
    "name": "ipython",
    "version": 3
   },
   "file_extension": ".py",
   "mimetype": "text/x-python",
   "name": "python",
   "nbconvert_exporter": "python",
   "pygments_lexer": "ipython3",
   "version": "3.6.5"
  }
 },
 "nbformat": 4,
 "nbformat_minor": 2
}
