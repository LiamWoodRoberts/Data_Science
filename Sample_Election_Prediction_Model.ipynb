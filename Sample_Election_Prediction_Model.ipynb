{
 "cells": [
  {
   "cell_type": "code",
   "execution_count": 2,
   "metadata": {},
   "outputs": [],
   "source": [
    "#Packages Used\n",
    "import numpy as np\n",
    "import pandas as pd\n",
    "import statsmodels.api as sm\n",
    "from scipy import stats\n",
    "from matplotlib import pyplot as plt\n",
    "%matplotlib inline"
   ]
  },
  {
   "cell_type": "markdown",
   "metadata": {},
   "source": [
    "## Part 5 - Creating a Model to Predict Election Outcome"
   ]
  },
  {
   "cell_type": "markdown",
   "metadata": {},
   "source": [
    "#### Input: X = Numeric Data Features , y =  State Election Outcomes for 2008 and 2012\n",
    "#### Output: Election outcome prediction for each state "
   ]
  },
  {
   "cell_type": "markdown",
   "metadata": {},
   "source": [
    "define X:"
   ]
  },
  {
   "cell_type": "code",
   "execution_count": 38,
   "metadata": {},
   "outputs": [
    {
     "data": {
      "text/html": [
       "<div>\n",
       "<style scoped>\n",
       "    .dataframe tbody tr th:only-of-type {\n",
       "        vertical-align: middle;\n",
       "    }\n",
       "\n",
       "    .dataframe tbody tr th {\n",
       "        vertical-align: top;\n",
       "    }\n",
       "\n",
       "    .dataframe thead th {\n",
       "        text-align: right;\n",
       "    }\n",
       "</style>\n",
       "<table border=\"1\" class=\"dataframe\">\n",
       "  <thead>\n",
       "    <tr style=\"text-align: right;\">\n",
       "      <th></th>\n",
       "      <th>Precincts</th>\n",
       "      <th>Less Than High School Diploma</th>\n",
       "      <th>At Least High School Diploma</th>\n",
       "      <th>At Least Bachelors's Degree</th>\n",
       "      <th>Graduate Degree</th>\n",
       "      <th>School Enrollment</th>\n",
       "      <th>Median Earnings 2010</th>\n",
       "      <th>Native American Population</th>\n",
       "      <th>Other Race or Races</th>\n",
       "      <th>Latino Population</th>\n",
       "      <th>...</th>\n",
       "      <th>White</th>\n",
       "      <th>Black</th>\n",
       "      <th>Asian</th>\n",
       "      <th>SIRE_homogeneity</th>\n",
       "      <th>median_age</th>\n",
       "      <th>Children.in.single.parent.households</th>\n",
       "      <th>Adult.obesity</th>\n",
       "      <th>Diabetes</th>\n",
       "      <th>Uninsured</th>\n",
       "      <th>Unemployment</th>\n",
       "    </tr>\n",
       "    <tr>\n",
       "      <th>State</th>\n",
       "      <th></th>\n",
       "      <th></th>\n",
       "      <th></th>\n",
       "      <th></th>\n",
       "      <th></th>\n",
       "      <th></th>\n",
       "      <th></th>\n",
       "      <th></th>\n",
       "      <th></th>\n",
       "      <th></th>\n",
       "      <th></th>\n",
       "      <th></th>\n",
       "      <th></th>\n",
       "      <th></th>\n",
       "      <th></th>\n",
       "      <th></th>\n",
       "      <th></th>\n",
       "      <th></th>\n",
       "      <th></th>\n",
       "      <th></th>\n",
       "      <th></th>\n",
       "    </tr>\n",
       "  </thead>\n",
       "  <tbody>\n",
       "    <tr>\n",
       "      <th>Alabama</th>\n",
       "      <td>-0.077755</td>\n",
       "      <td>0.464248</td>\n",
       "      <td>-0.148869</td>\n",
       "      <td>-0.264974</td>\n",
       "      <td>-0.181200</td>\n",
       "      <td>-0.012754</td>\n",
       "      <td>-0.144352</td>\n",
       "      <td>-0.092312</td>\n",
       "      <td>-0.036711</td>\n",
       "      <td>-0.115357</td>\n",
       "      <td>...</td>\n",
       "      <td>-0.166794</td>\n",
       "      <td>0.380332</td>\n",
       "      <td>-0.045341</td>\n",
       "      <td>-0.137524</td>\n",
       "      <td>-0.091301</td>\n",
       "      <td>0.207347</td>\n",
       "      <td>0.368148</td>\n",
       "      <td>0.503946</td>\n",
       "      <td>0.046533</td>\n",
       "      <td>0.088773</td>\n",
       "    </tr>\n",
       "    <tr>\n",
       "      <th>Arizona</th>\n",
       "      <td>0.065748</td>\n",
       "      <td>0.176586</td>\n",
       "      <td>-0.043689</td>\n",
       "      <td>-0.147305</td>\n",
       "      <td>-0.090189</td>\n",
       "      <td>-0.039478</td>\n",
       "      <td>-0.082358</td>\n",
       "      <td>0.871648</td>\n",
       "      <td>-0.016742</td>\n",
       "      <td>0.480150</td>\n",
       "      <td>...</td>\n",
       "      <td>-0.369304</td>\n",
       "      <td>-0.130844</td>\n",
       "      <td>-0.026932</td>\n",
       "      <td>-0.332810</td>\n",
       "      <td>-0.155123</td>\n",
       "      <td>0.135144</td>\n",
       "      <td>-0.086555</td>\n",
       "      <td>-0.009799</td>\n",
       "      <td>0.192575</td>\n",
       "      <td>0.415613</td>\n",
       "    </tr>\n",
       "    <tr>\n",
       "      <th>Arkansas</th>\n",
       "      <td>-0.087043</td>\n",
       "      <td>0.342769</td>\n",
       "      <td>-0.104452</td>\n",
       "      <td>-0.330130</td>\n",
       "      <td>-0.290216</td>\n",
       "      <td>-0.016924</td>\n",
       "      <td>-0.243802</td>\n",
       "      <td>-0.092933</td>\n",
       "      <td>-0.027579</td>\n",
       "      <td>-0.077936</td>\n",
       "      <td>...</td>\n",
       "      <td>-0.005840</td>\n",
       "      <td>0.138276</td>\n",
       "      <td>-0.044498</td>\n",
       "      <td>-0.027126</td>\n",
       "      <td>-0.006518</td>\n",
       "      <td>0.119173</td>\n",
       "      <td>0.277318</td>\n",
       "      <td>0.295051</td>\n",
       "      <td>0.217124</td>\n",
       "      <td>0.051962</td>\n",
       "    </tr>\n",
       "    <tr>\n",
       "      <th>California</th>\n",
       "      <td>0.852380</td>\n",
       "      <td>0.140121</td>\n",
       "      <td>-0.030356</td>\n",
       "      <td>0.142438</td>\n",
       "      <td>0.091229</td>\n",
       "      <td>0.035240</td>\n",
       "      <td>0.137561</td>\n",
       "      <td>-0.008604</td>\n",
       "      <td>0.030581</td>\n",
       "      <td>0.441915</td>\n",
       "      <td>...</td>\n",
       "      <td>-0.293821</td>\n",
       "      <td>-0.101922</td>\n",
       "      <td>0.146049</td>\n",
       "      <td>-0.337213</td>\n",
       "      <td>-0.169899</td>\n",
       "      <td>0.005002</td>\n",
       "      <td>-0.310781</td>\n",
       "      <td>-0.266848</td>\n",
       "      <td>0.118666</td>\n",
       "      <td>0.512985</td>\n",
       "    </tr>\n",
       "    <tr>\n",
       "      <th>Colorado</th>\n",
       "      <td>-0.052534</td>\n",
       "      <td>-0.175835</td>\n",
       "      <td>0.085170</td>\n",
       "      <td>0.305835</td>\n",
       "      <td>0.179064</td>\n",
       "      <td>-0.000126</td>\n",
       "      <td>-0.000024</td>\n",
       "      <td>-0.068742</td>\n",
       "      <td>-0.022754</td>\n",
       "      <td>0.244062</td>\n",
       "      <td>...</td>\n",
       "      <td>-0.019341</td>\n",
       "      <td>-0.136373</td>\n",
       "      <td>-0.029546</td>\n",
       "      <td>-0.064440</td>\n",
       "      <td>0.043765</td>\n",
       "      <td>-0.138398</td>\n",
       "      <td>-0.530811</td>\n",
       "      <td>-0.496054</td>\n",
       "      <td>0.160312</td>\n",
       "      <td>-0.020453</td>\n",
       "    </tr>\n",
       "  </tbody>\n",
       "</table>\n",
       "<p>5 rows × 33 columns</p>\n",
       "</div>"
      ],
      "text/plain": [
       "            Precincts  Less Than High School Diploma  \\\n",
       "State                                                  \n",
       "Alabama     -0.077755                       0.464248   \n",
       "Arizona      0.065748                       0.176586   \n",
       "Arkansas    -0.087043                       0.342769   \n",
       "California   0.852380                       0.140121   \n",
       "Colorado    -0.052534                      -0.175835   \n",
       "\n",
       "            At Least High School Diploma  At Least Bachelors's Degree  \\\n",
       "State                                                                   \n",
       "Alabama                        -0.148869                    -0.264974   \n",
       "Arizona                        -0.043689                    -0.147305   \n",
       "Arkansas                       -0.104452                    -0.330130   \n",
       "California                     -0.030356                     0.142438   \n",
       "Colorado                        0.085170                     0.305835   \n",
       "\n",
       "            Graduate Degree  School Enrollment  Median Earnings 2010  \\\n",
       "State                                                                  \n",
       "Alabama           -0.181200          -0.012754             -0.144352   \n",
       "Arizona           -0.090189          -0.039478             -0.082358   \n",
       "Arkansas          -0.290216          -0.016924             -0.243802   \n",
       "California         0.091229           0.035240              0.137561   \n",
       "Colorado           0.179064          -0.000126             -0.000024   \n",
       "\n",
       "            Native American Population  Other Race or Races  \\\n",
       "State                                                         \n",
       "Alabama                      -0.092312            -0.036711   \n",
       "Arizona                       0.871648            -0.016742   \n",
       "Arkansas                     -0.092933            -0.027579   \n",
       "California                   -0.008604             0.030581   \n",
       "Colorado                     -0.068742            -0.022754   \n",
       "\n",
       "            Latino Population      ...          White     Black     Asian  \\\n",
       "State                              ...                                      \n",
       "Alabama             -0.115357      ...      -0.166794  0.380332 -0.045341   \n",
       "Arizona              0.480150      ...      -0.369304 -0.130844 -0.026932   \n",
       "Arkansas            -0.077936      ...      -0.005840  0.138276 -0.044498   \n",
       "California           0.441915      ...      -0.293821 -0.101922  0.146049   \n",
       "Colorado             0.244062      ...      -0.019341 -0.136373 -0.029546   \n",
       "\n",
       "            SIRE_homogeneity  median_age  \\\n",
       "State                                      \n",
       "Alabama            -0.137524   -0.091301   \n",
       "Arizona            -0.332810   -0.155123   \n",
       "Arkansas           -0.027126   -0.006518   \n",
       "California         -0.337213   -0.169899   \n",
       "Colorado           -0.064440    0.043765   \n",
       "\n",
       "            Children.in.single.parent.households  Adult.obesity  Diabetes  \\\n",
       "State                                                                       \n",
       "Alabama                                 0.207347       0.368148  0.503946   \n",
       "Arizona                                 0.135144      -0.086555 -0.009799   \n",
       "Arkansas                                0.119173       0.277318  0.295051   \n",
       "California                              0.005002      -0.310781 -0.266848   \n",
       "Colorado                               -0.138398      -0.530811 -0.496054   \n",
       "\n",
       "            Uninsured  Unemployment  \n",
       "State                                \n",
       "Alabama      0.046533      0.088773  \n",
       "Arizona      0.192575      0.415613  \n",
       "Arkansas     0.217124      0.051962  \n",
       "California   0.118666      0.512985  \n",
       "Colorado     0.160312     -0.020453  \n",
       "\n",
       "[5 rows x 33 columns]"
      ]
     },
     "execution_count": 38,
     "metadata": {},
     "output_type": "execute_result"
    }
   ],
   "source": [
    "#make a copy of all numeric variabels from the data.csv dataframe\n",
    "df_log = df_data_clean.copy()\n",
    "\n",
    "#Declare independent variable X and mean normalize before passing X\n",
    "#into the model\n",
    "X = df_log[df_log.columns[\n",
    "    2:len(df_log.columns)]].groupby(df['State']).mean().apply(\n",
    "    lambda x: (x - np.mean(x)) / (np.max(x) - np.min(x)))\n",
    "X.head()"
   ]
  },
  {
   "cell_type": "markdown",
   "metadata": {},
   "source": [
    "Define y:"
   ]
  },
  {
   "cell_type": "code",
   "execution_count": 60,
   "metadata": {},
   "outputs": [],
   "source": [
    "#Join votes dataframe to features data frame\n",
    "df_p5 = df_data_clean.join(df_votes_clean,how='inner').groupby(df['State']).sum()\n",
    "\n",
    "#Create a Boolean column with Republican wins or losses each year\n",
    "df_p5['Winners 08'] = df_p5['Republicans 08 (Votes)'] > df_p5['Democrats 08 (Votes)']\n",
    "df_p5['Winners 12'] = df_p5['Republicans 12 (Votes)'] > df_p5['Democrats 12 (Votes)']\n",
    "df_p5['Winners 16'] = df_p5['Republicans 16 (Votes)'] > df_p5['Democrats 16 (Votes)']\n",
    "df_p5.head(5)"
   ]
  },
  {
   "cell_type": "code",
   "execution_count": 40,
   "metadata": {},
   "outputs": [],
   "source": [
    "#Declare our dependent and independent variables to be fed into our\n",
    "#Logistic Regression Model\n",
    "y_08 = df_p5['Winners 08']\n",
    "y_12 = df_p5['Winners 12']\n",
    "y_16 = df_p5['Winners 16']"
   ]
  },
  {
   "cell_type": "markdown",
   "metadata": {},
   "source": [
    "## Logistical Regression Model"
   ]
  },
  {
   "cell_type": "code",
   "execution_count": 41,
   "metadata": {},
   "outputs": [],
   "source": [
    "from sklearn import linear_model"
   ]
  },
  {
   "cell_type": "code",
   "execution_count": 42,
   "metadata": {},
   "outputs": [
    {
     "name": "stdout",
     "output_type": "stream",
     "text": [
      "08 Model Accuracy: 0.82\n",
      "12 Model Accuracy: 0.82\n"
     ]
    }
   ],
   "source": [
    "#Call logistic regression function to train our model on our election\n",
    "#features and results for the 08' and 12' elections.\n",
    "\n",
    "logreg = linear_model.LogisticRegression()\n",
    "model_08 = logreg.fit(X, y_08)\n",
    "model_12 = logreg.fit(X,y_12)\n",
    "\n",
    "#See how well the model predicted the 08' and 12' elections\n",
    "print('08 Model Accuracy:',model_08.score(X,y_16))\n",
    "print('12 Model Accuracy:',model_12.score(X,y_16))"
   ]
  },
  {
   "cell_type": "code",
   "execution_count": 43,
   "metadata": {},
   "outputs": [],
   "source": [
    "#The 08' and 12' had very similair results so it is appropriate that they \n",
    "#yield similair results"
   ]
  },
  {
   "cell_type": "code",
   "execution_count": 44,
   "metadata": {},
   "outputs": [],
   "source": [
    "#Get state election outcome predictions from our models\n",
    "predictions_08 = model_08.predict(X)\n",
    "predictions_12 = model_12.predict(X)"
   ]
  },
  {
   "cell_type": "code",
   "execution_count": 45,
   "metadata": {},
   "outputs": [],
   "source": [
    "#Add predictions to our Dataframe\n",
    "df_p5['Predicted Winners 08'] = predictions_08\n",
    "df_p5['Predicted Winners 12'] = predictions_12"
   ]
  },
  {
   "cell_type": "code",
   "execution_count": 46,
   "metadata": {
    "scrolled": true
   },
   "outputs": [],
   "source": [
    "#Set EC_Votes index to 'State' for our join\n",
    "try:\n",
    "    df_ec.set_index('State', inplace=True)\n",
    "except:\n",
    "    print('Index already Set to State')"
   ]
  },
  {
   "cell_type": "code",
   "execution_count": 47,
   "metadata": {},
   "outputs": [],
   "source": [
    "#Join dataframe to ec_votes date frame \n",
    "#on state to get electoral votes in each state\n",
    "df_results = df_p5.join(df_ec,how='inner')\n",
    "df_results['Elector Votes (Republican)'] = df_results['Winners 16']*df_results['EC_votes']\n",
    "\n",
    "#Calculate predicted electoral votes by multiplying Predicted\n",
    "#Repulican Win column by EC_Votes Column\n",
    "\n",
    "df_results['Predicted Elector Votes (Republican) 08'] = \\\n",
    "df_results['Predicted Winners 08']*df_results['EC_votes']\n",
    "\n",
    "df_results['Predicted Elector Votes (Republican) 12'] = \\\n",
    "df_results['Predicted Winners 12']*df_results['EC_votes']"
   ]
  },
  {
   "cell_type": "code",
   "execution_count": 48,
   "metadata": {},
   "outputs": [],
   "source": [
    "#Calculate the predicted number of seats won by republicans in our model\n",
    "seat_share_08 = np.sum(df_results['Predicted Elector Votes (Republican) 08'])\\\n",
    "/np.sum(df_results['EC_votes'])\n",
    "\n",
    "seat_share_12 = np.sum(df_results['Predicted Elector Votes (Republican) 12'])\\\n",
    "/np.sum(df_results['EC_votes'])\n",
    "\n",
    "#Calculate the actual number of seats won by republicans \n",
    "seat_share_actual = np.sum(df_results['Elector Votes (Republican)'])\\\n",
    "/np.sum(df_results['EC_votes'])"
   ]
  },
  {
   "cell_type": "code",
   "execution_count": 49,
   "metadata": {},
   "outputs": [
    {
     "name": "stdout",
     "output_type": "stream",
     "text": [
      "Predicted Republican Electoral Vote Share (Using 2008 Election Results):\n",
      "% 0.3719626168224299\n",
      "\n",
      "Predicted Republican Electoral Vote Share (Using 2012 Election Results):\n",
      "% 0.3719626168224299\n",
      "\n",
      "Actual Republican Electoral Vote Share:\n",
      "% 0.5644859813084112\n"
     ]
    }
   ],
   "source": [
    "print('Predicted Republican Electoral Vote Share (Using 2008 Election Results):')\n",
    "print('%',seat_share_08)\n",
    "print('')\n",
    "print('Predicted Republican Electoral Vote Share (Using 2012 Election Results):')\n",
    "print('%',seat_share_12)\n",
    "print('')\n",
    "print('Actual Republican Electoral Vote Share:')\n",
    "print('%',seat_share_actual)"
   ]
  },
  {
   "cell_type": "markdown",
   "metadata": {},
   "source": [
    "Our model predicted a democratic win. Both models had the same exact predictions. This is likely because our X matrix is the same for all years. The model is limited in that the independent variable (voter information) we are trying to use to predict our dependent variable (votes) is the same across each election. In practice voter information and votes from a particular year would be used to fit a model then that model would be used on a data set from a future year to predict an election result."
   ]
  },
  {
   "cell_type": "markdown",
   "metadata": {},
   "source": [
    "## Linear Regression Model (for comparison)"
   ]
  },
  {
   "cell_type": "code",
   "execution_count": 50,
   "metadata": {},
   "outputs": [],
   "source": [
    "#Assign dependent variable for linear model\n",
    "y_lin_08 = (df_p5['Republicans 08 (Votes)']-df_p5['Democrats 08 (Votes)'])"
   ]
  },
  {
   "cell_type": "code",
   "execution_count": 51,
   "metadata": {},
   "outputs": [],
   "source": [
    "#feed dependent and independent variables into our model\n",
    "est = sm.OLS(y_lin_08, X).fit()\n",
    "lin_predicts_08 = est.fittedvalues\n",
    "#est_ST12 = sm.OLS(y_08, X_ST).fit()"
   ]
  },
  {
   "cell_type": "code",
   "execution_count": 52,
   "metadata": {},
   "outputs": [],
   "source": [
    "#Create new data fram for results:\n",
    "df_model_ST = df_ec[['EC_votes']]\n",
    "df_model_ST = df_model_ST.copy()\n",
    "\n",
    "#Add predictions and results to our dataframe\n",
    "df_model_ST['Predicted Vote Count 16 (Republicans)'] = lin_predicts_08\n",
    "df_model_ST['Republican Win (Prediction)'] = lin_predicts_08 > 0\n",
    "df_model_ST['Republican Win (Actual)'] = (df_p5['Republicans 16 (Votes)']\\\n",
    "- df_p5['Democrats 16 (Votes)']) > 0\n",
    "df_model_ST['Democrat Win (Actual)'] = (df_p5['Republicans 16 (Votes)']\\\n",
    "- df_p5['Democrats 16 (Votes)']) < 0\n",
    "\n",
    "#Logic returns Nan Values instead of False values. \n",
    "#Use Fillna to eliminate.\n",
    "df_model_ST = df_model_ST.fillna(False)\n",
    "\n",
    "#Calculate the predicted and actual number of seats won by Republicans.\n",
    "#in 2016\n",
    "df_model_ST['Predicted Elector Votes (Republican) 08'] = \\\n",
    "df_model_ST['Republican Win (Prediction)']*df_model_ST['EC_votes']\n",
    "\n",
    "df_model_ST['Actual Electoral Votes (Republican)'] = \\\n",
    "df_model_ST['Republican Win (Actual)']*df_model_ST['EC_votes']"
   ]
  },
  {
   "cell_type": "code",
   "execution_count": 53,
   "metadata": {},
   "outputs": [
    {
     "name": "stdout",
     "output_type": "stream",
     "text": [
      "Predicted Republican Electoral Vote Share:\n",
      "% 0.43177570093457945\n",
      "\n",
      "Actual Republican Electoral Vote Share:\n",
      "% 0.5613382899628253\n",
      "\n",
      "R-Squared: 0.8297022745428937\n"
     ]
    }
   ],
   "source": [
    "vote_share_08 = np.sum(df_model_ST['Predicted Elector Votes (Republican) 08'])\\\n",
    "/np.sum(df_results['EC_votes'])\n",
    "\n",
    "vote_share_actual = np.sum(df_model_ST['Actual Electoral Votes (Republican)'])\\\n",
    "/np.sum(df_model_ST['EC_votes'])\n",
    "print('Predicted Republican Electoral Vote Share:')\n",
    "print('%',vote_share_08)\n",
    "print('')\n",
    "print('Actual Republican Electoral Vote Share:')\n",
    "print('%',vote_share_actual)\n",
    "print('')\n",
    "print('R-Squared:',est.rsquared)"
   ]
  },
  {
   "cell_type": "markdown",
   "metadata": {},
   "source": [
    "Both models predicted a Democrat win. The Logistical regression predicted a %37.2 electoral vote share for the Republicans and a linear regression model predicted a %43.2 electoral vote share for Republicans"
   ]
  }
 ],
 "metadata": {
  "kernelspec": {
   "display_name": "Python 3",
   "language": "python",
   "name": "python3"
  },
  "language_info": {
   "codemirror_mode": {
    "name": "ipython",
    "version": 3
   },
   "file_extension": ".py",
   "mimetype": "text/x-python",
   "name": "python",
   "nbconvert_exporter": "python",
   "pygments_lexer": "ipython3",
   "version": "3.6.5"
  }
 },
 "nbformat": 4,
 "nbformat_minor": 2
}
